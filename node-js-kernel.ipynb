{
 "cells": [
  {
   "cell_type": "code",
   "execution_count": 1,
   "id": "aba76225-74c7-4ebe-802f-052480011ca3",
   "metadata": {},
   "outputs": [
    {
     "name": "stdout",
     "output_type": "stream",
     "text": [
      "cool\n"
     ]
    },
    {
     "data": {
      "text/plain": [
       "5"
      ]
     },
     "execution_count": 1,
     "metadata": {},
     "output_type": "execute_result"
    }
   ],
   "source": [
    "console.log('cool')\n",
    "aa = 5\n",
    "aa"
   ]
  },
  {
   "cell_type": "markdown",
   "id": "f4511eef-c439-4c2d-84ef-9ac6bffdcbca",
   "metadata": {},
   "source": [
    "https://nightwatchjs.org/guide/running-tests/programmatic-api.html#syntax"
   ]
  },
  {
   "cell_type": "code",
   "execution_count": 2,
   "id": "eb9102de-f51b-47b0-b662-f048e13a7da4",
   "metadata": {},
   "outputs": [],
   "source": [
    "const Nightwatch = require('nightwatch');"
   ]
  },
  {
   "cell_type": "code",
   "execution_count": 3,
   "id": "ad9cd8f3-45d3-41bc-88cd-40b8534bda2c",
   "metadata": {},
   "outputs": [
    {
     "data": {
      "text/plain": [
       "{\n",
       "  updateCapabilities: [Function: updateCapabilities],\n",
       "  launchBrowser: [Function: launchBrowser]\n",
       "}"
      ]
     },
     "execution_count": 3,
     "metadata": {},
     "output_type": "execute_result"
    }
   ],
   "source": [
    "client = Nightwatch.createClient({\n",
    "  headless: false,\n",
    "  output: true,\n",
    "  silent: true, // set to false to enable verbose logging\n",
    "  browserName: 'chrome', // can be either: firefox, chrome, safari, or edge\n",
    "\n",
    "  // set the global timeout to be used with waitFor commands and when retrying assertions/expects\n",
    "  timeout: 10000,\n",
    "\n",
    "  // set the current test environment from the nightwatch config\n",
    "  //env: null,\n",
    "  env: 'default',\n",
    "\n",
    "  // any additional capabilities needed\n",
    "  desiredCapabilities: {\n",
    "\n",
    "  },\n",
    "\n",
    "  // can define/overwrite test globals here; \n",
    "  // when using a third-party test runner only the global hooks onBrowserNavigate/onBrowserQuit are supported\n",
    "  globals: {},\n",
    "\n",
    "  // when the test runner used supports running tests in parallel; \n",
    "  // set to true if you need the webdriver port to be randomly generated\n",
    "  parallel: false, \n",
    "\n",
    "  // All other Nightwatch config settings can be overwritten here, such as:\n",
    "  disable_colors: false\n",
    "});"
   ]
  },
  {
   "cell_type": "code",
   "execution_count": 4,
   "id": "a1ef4096-9728-4edc-9df7-8a8187d0442f",
   "metadata": {},
   "outputs": [],
   "source": [
    "async function hello() {\n",
    "    return \"whatever\"\n",
    "}"
   ]
  },
  {
   "cell_type": "code",
   "execution_count": 5,
   "id": "4883c57b-6dec-4c11-a482-30e7d9adb683",
   "metadata": {},
   "outputs": [
    {
     "data": {
      "text/plain": [
       "Promise { <pending> }"
      ]
     },
     "execution_count": 5,
     "metadata": {},
     "output_type": "execute_result"
    }
   ],
   "source": [
    "async function example() {\n",
    "  // Your code here\n",
    "  let result = await hello();\n",
    "  console.log(result);\n",
    "}\n",
    "\n",
    "// Call the async function\n",
    "example();"
   ]
  },
  {
   "cell_type": "code",
   "execution_count": 6,
   "id": "3665a62a-b913-4804-a299-b72cadfabae2",
   "metadata": {},
   "outputs": [
    {
     "name": "stdout",
     "output_type": "stream",
     "text": [
      "whatever\n"
     ]
    },
    {
     "data": {
      "text/plain": [
       "Promise { <pending> }"
      ]
     },
     "execution_count": 6,
     "metadata": {},
     "output_type": "execute_result"
    }
   ],
   "source": [
    "async function get_browser() {\n",
    "    browser = await client.launchBrowser();\n",
    "    return browser;\n",
    "}\n",
    "\n",
    "br = get_browser()\n",
    "br"
   ]
  },
  {
   "cell_type": "code",
   "execution_count": 7,
   "id": "e8d8bdfd-37ce-4947-b9a7-cf59e4294cfc",
   "metadata": {},
   "outputs": [
    {
     "name": "stderr",
     "output_type": "stream",
     "text": [
      "- Starting ChromeDriver on port 9515...\n",
      "\n"
     ]
    },
    {
     "data": {
      "text/plain": [
       "Promise { <pending> }"
      ]
     },
     "execution_count": 7,
     "metadata": {},
     "output_type": "execute_result"
    }
   ],
   "source": [
    "br.then(browser => {\n",
    "    browser\n",
    "      .url('http://www.google.com')\n",
    "      .waitForElementVisible('body', 1000)\n",
    "      .assert.titleEquals('Google')\n",
    "      .assert.visible('input[type=text]')\n",
    "})"
   ]
  },
  {
   "cell_type": "code",
   "execution_count": 8,
   "id": "5e90889d-af7e-40a9-b133-3e481637fd5b",
   "metadata": {},
   "outputs": [
    {
     "data": {
      "text/plain": [
       "Promise { <pending> }"
      ]
     },
     "execution_count": 8,
     "metadata": {},
     "output_type": "execute_result"
    },
    {
     "name": "stderr",
     "output_type": "stream",
     "text": [
      "ℹ Connected to \u001b[0;90mChromeDriver\u001b[0m on port \u001b[0;90m9515\u001b[0m \u001b[0;90m(772ms)\u001b[0m.\n"
     ]
    },
    {
     "name": "stdout",
     "output_type": "stream",
     "text": [
      "  Using: \u001b[1;34mchrome\u001b[0m \u001b[0;33m(108.0.5359.124)\u001b[0m on \u001b[0;36mMAC OS X\u001b[0m.\n",
      "\n"
     ]
    },
    {
     "name": "stderr",
     "output_type": "stream",
     "text": [
      "- Loading url: http://www.google.com\n",
      "\n",
      "  ℹ Loaded url http://www.google.com in 846ms\n"
     ]
    },
    {
     "name": "stdout",
     "output_type": "stream",
     "text": [
      "\u001b[0;32m✔\u001b[0m Element <body> was visible after 22 milliseconds.\n"
     ]
    },
    {
     "name": "stderr",
     "output_type": "stream",
     "text": [
      "DEPRECATED: the assertion .title() has been deprecated and will be removed from future versions. Use assert.titleEquals().\n"
     ]
    },
    {
     "name": "stdout",
     "output_type": "stream",
     "text": [
      "\u001b[0;32m✔\u001b[0m Testing if the page title equals \u001b[0;33m'Google'\u001b[0m \u001b[0;90m(5ms)\u001b[0m\n",
      "\u001b[0;32m✔\u001b[0m Testing if element \u001b[0;33m<input[type=text]>\u001b[0m is visible \u001b[0;90m(16ms)\u001b[0m\n",
      "\u001b[0;32m✔\u001b[0m Element <a> was visible after 13 milliseconds.\n"
     ]
    }
   ],
   "source": [
    "br.then(browser => {\n",
    "    browser\n",
    "      .waitForElementVisible('a', 1000)\n",
    "      .end();\n",
    "})"
   ]
  },
  {
   "cell_type": "code",
   "execution_count": null,
   "id": "fad53500-a4c3-4a08-8181-77d1b8ddac2d",
   "metadata": {},
   "outputs": [],
   "source": []
  }
 ],
 "metadata": {
  "kernelspec": {
   "display_name": "JavaScript (Node.js)",
   "language": "javascript",
   "name": "javascript"
  },
  "language_info": {
   "file_extension": ".js",
   "mimetype": "application/javascript",
   "name": "javascript",
   "version": "19.3.0"
  }
 },
 "nbformat": 4,
 "nbformat_minor": 5
}
